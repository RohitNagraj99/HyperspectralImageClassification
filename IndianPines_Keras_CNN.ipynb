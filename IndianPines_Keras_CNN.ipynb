{
  "nbformat": 4,
  "nbformat_minor": 0,
  "metadata": {
    "kernelspec": {
      "name": "python3",
      "display_name": "Python 3"
    },
    "language_info": {
      "codemirror_mode": {
        "name": "ipython",
        "version": 3
      },
      "file_extension": ".py",
      "mimetype": "text/x-python",
      "name": "python",
      "nbconvert_exporter": "python",
      "pygments_lexer": "ipython3",
      "version": "3.7.4"
    },
    "colab": {
      "name": "IndianPines_Keras_CNN.ipynb",
      "provenance": [],
      "collapsed_sections": [],
      "machine_shape": "hm"
    },
    "accelerator": "GPU"
  },
  "cells": [
    {
      "cell_type": "code",
      "metadata": {
        "id": "y3cx4kLkXHZC",
        "colab_type": "code",
        "colab": {
          "base_uri": "https://localhost:8080/",
          "height": 419
        },
        "outputId": "8fd4d4d2-bf47-4d6f-9673-b75b3f57d978"
      },
      "source": [
        "%tensorflow_version 2.1\n",
        "from google.colab import drive\n",
        "drive.mount('/content/drive')\n",
        "! pip install spectral"
      ],
      "execution_count": 1,
      "outputs": [
        {
          "output_type": "stream",
          "text": [
            "`%tensorflow_version` only switches the major version: 1.x or 2.x.\n",
            "You set: `2.1`. This will be interpreted as: `2.x`.\n",
            "\n",
            "\n",
            "TensorFlow 2.x selected.\n",
            "Go to this URL in a browser: https://accounts.google.com/o/oauth2/auth?client_id=947318989803-6bn6qk8qdgf4n4g3pfee6491hc0brc4i.apps.googleusercontent.com&redirect_uri=urn%3aietf%3awg%3aoauth%3a2.0%3aoob&response_type=code&scope=email%20https%3a%2f%2fwww.googleapis.com%2fauth%2fdocs.test%20https%3a%2f%2fwww.googleapis.com%2fauth%2fdrive%20https%3a%2f%2fwww.googleapis.com%2fauth%2fdrive.photos.readonly%20https%3a%2f%2fwww.googleapis.com%2fauth%2fpeopleapi.readonly\n",
            "\n",
            "Enter your authorization code:\n",
            "··········\n",
            "Mounted at /content/drive\n",
            "Collecting spectral\n",
            "\u001b[?25l  Downloading https://files.pythonhosted.org/packages/48/8e/db1d750fb0153027e4e945f91f04b72a3b8b9a0cfdc2c8a33bedcb27740d/spectral-0.20.tar.gz (143kB)\n",
            "\u001b[K     |████████████████████████████████| 153kB 2.7MB/s \n",
            "\u001b[?25hRequirement already satisfied: numpy in /usr/local/lib/python3.6/dist-packages (from spectral) (1.18.1)\n",
            "Building wheels for collected packages: spectral\n",
            "  Building wheel for spectral (setup.py) ... \u001b[?25l\u001b[?25hdone\n",
            "  Created wheel for spectral: filename=spectral-0.20-cp36-none-any.whl size=183917 sha256=7e747baf04612311de6020701033063819792bf6351faed417922bed6ee5e1e2\n",
            "  Stored in directory: /root/.cache/pip/wheels/ad/cf/f3/3cab28f6aed46f15c8db09c6ad678483610426261025e61ff8\n",
            "Successfully built spectral\n",
            "Installing collected packages: spectral\n",
            "Successfully installed spectral-0.20\n"
          ],
          "name": "stdout"
        }
      ]
    },
    {
      "cell_type": "code",
      "metadata": {
        "id": "VdWa5s22WiE-",
        "colab_type": "code",
        "colab": {
          "base_uri": "https://localhost:8080/",
          "height": 17
        },
        "outputId": "60ed164c-4909-4f2c-cc95-c81547021342"
      },
      "source": [
        "import tensorflow as tf\n",
        "import tensorflow.keras as keras\n",
        "from tensorflow.keras.layers import Conv2D, Conv3D, Flatten, Dense, Reshape, BatchNormalization\n",
        "from tensorflow.keras.layers import Dropout, Input, LeakyReLU, AveragePooling3D\n",
        "from tensorflow.keras.models import Model\n",
        "from tensorflow.keras.optimizers import Adam, Adamax\n",
        "from tensorflow.keras.callbacks import ModelCheckpoint\n",
        "from tensorflow.keras.utils import to_categorical\n",
        "\n",
        "from sklearn.decomposition import PCA\n",
        "from sklearn.model_selection import train_test_split\n",
        "from sklearn.metrics import confusion_matrix, accuracy_score, classification_report, cohen_kappa_score\n",
        "\n",
        "from plotly.offline import init_notebook_mode\n",
        "\n",
        "from operator import truediv\n",
        "\n",
        "import numpy as np\n",
        "import matplotlib.pyplot as plt\n",
        "import scipy.io as sio\n",
        "import os\n",
        "import spectral\n",
        "\n",
        "init_notebook_mode(connected=True)\n",
        "%matplotlib inline"
      ],
      "execution_count": 490,
      "outputs": [
        {
          "output_type": "display_data",
          "data": {
            "text/html": [
              "        <script type=\"text/javascript\">\n",
              "        window.PlotlyConfig = {MathJaxConfig: 'local'};\n",
              "        if (window.MathJax) {MathJax.Hub.Config({SVG: {font: \"STIX-Web\"}});}\n",
              "        if (typeof require !== 'undefined') {\n",
              "        require.undef(\"plotly\");\n",
              "        requirejs.config({\n",
              "            paths: {\n",
              "                'plotly': ['https://cdn.plot.ly/plotly-latest.min']\n",
              "            }\n",
              "        });\n",
              "        require(['plotly'], function(Plotly) {\n",
              "            window._Plotly = Plotly;\n",
              "        });\n",
              "        }\n",
              "        </script>\n",
              "        "
            ]
          },
          "metadata": {
            "tags": []
          }
        }
      ]
    },
    {
      "cell_type": "code",
      "metadata": {
        "id": "jBxCiRfuedcV",
        "colab_type": "code",
        "colab": {
          "base_uri": "https://localhost:8080/",
          "height": 35
        },
        "outputId": "56943167-bd7c-43cf-c7be-fdc6a77c2976"
      },
      "source": [
        "print(tf.__version__)"
      ],
      "execution_count": 240,
      "outputs": [
        {
          "output_type": "stream",
          "text": [
            "2.1.0\n"
          ],
          "name": "stdout"
        }
      ]
    },
    {
      "cell_type": "markdown",
      "metadata": {
        "id": "orRjgxecWiFJ",
        "colab_type": "text"
      },
      "source": [
        "#### Data loading"
      ]
    },
    {
      "cell_type": "code",
      "metadata": {
        "id": "7ZXmFqpKWiFL",
        "colab_type": "code",
        "colab": {}
      },
      "source": [
        "# Global Variables\n",
        "dataset = 'IP'\n",
        "test_ratio = 0.6\n",
        "val_ratio = 0.5\n",
        "windowSize = 15"
      ],
      "execution_count": 0,
      "outputs": []
    },
    {
      "cell_type": "code",
      "metadata": {
        "id": "1L8D-5C4WiFT",
        "colab_type": "code",
        "colab": {}
      },
      "source": [
        "def loadData():\n",
        "    data_path = os.path.join(os.getcwd(), 'Dataset')\n",
        "    data = sio.loadmat('/content/drive/My Drive/Colab Notebooks/Datasets/Indian_Pines/Indian_pines_corrected.mat')['indian_pines_corrected']\n",
        "    labels = sio.loadmat('/content/drive/My Drive/Colab Notebooks/Datasets/Indian_Pines/Indian_pines_gt.mat')['indian_pines_gt']\n",
        "    return data, labels"
      ],
      "execution_count": 0,
      "outputs": []
    },
    {
      "cell_type": "code",
      "metadata": {
        "id": "XZTDH4YxWiFY",
        "colab_type": "code",
        "colab": {}
      },
      "source": [
        "def splitTrainTestSet(X, y, testRatio, randomState=0):\n",
        "    X_train, X_test, y_train, y_test = train_test_split(X, y, test_size = testRatio,\n",
        "                                                       random_state=randomState,\n",
        "                                                       stratify=y)\n",
        "    return X_train, X_test, y_train, y_test\n",
        "\"\"\"\n",
        "This stratify parameter makes a split so that the proportion of values in the sample \n",
        "produced will be the same as the proportion of values provided to parameter stratify.\n",
        "\n",
        "For example, if variable y is a binary categorical variable with values 0 and 1 and \n",
        "there are 25% of zeros and 75% of ones, stratify=y will make sure that your random \n",
        "split has 25% of 0's and 75% of 1's.\n",
        "\"\"\";"
      ],
      "execution_count": 0,
      "outputs": []
    },
    {
      "cell_type": "code",
      "metadata": {
        "id": "_6btjMa1WiFd",
        "colab_type": "code",
        "colab": {}
      },
      "source": [
        "def applyPCA(X, numComponents=75):\n",
        "    newX = np.reshape(X, (-1, X.shape[2]))\n",
        "    pca = PCA(n_components=numComponents, whiten=True)\n",
        "    newX = pca.fit_transform(newX)\n",
        "    newX = np.reshape(newX, (X.shape[0], X.shape[1], numComponents))\n",
        "    return newX, pca\n",
        "\"\"\"\n",
        "When True (False by default) the components_ vectors are multiplied by the square \n",
        "root of n_samples and then divided by the singular values to ensure uncorrelated \n",
        "outputs with unit component-wise variances.\n",
        "\n",
        "Whitening will remove some information from the transformed signal (the relative \n",
        "variance scales of the components) but can sometime improve the predictive accuracy \n",
        "of the downstream estimators by making their data respect some hard-wired assumptions.\n",
        "\"\"\";"
      ],
      "execution_count": 0,
      "outputs": []
    },
    {
      "cell_type": "code",
      "metadata": {
        "id": "sy9UwrrdWiFj",
        "colab_type": "code",
        "colab": {}
      },
      "source": [
        "def padWithZeros(X, margin=2):\n",
        "    newX = np.zeros((X.shape[0] + 2 * margin, X.shape[1] + 2*margin, X.shape[2]))\n",
        "    x_offset = margin\n",
        "    y_offset = margin\n",
        "    newX[x_offset:X.shape[0] + x_offset, y_offset: X.shape[1] + y_offset, :] = X\n",
        "    return newX"
      ],
      "execution_count": 0,
      "outputs": []
    },
    {
      "cell_type": "code",
      "metadata": {
        "id": "G1accf5oWiFq",
        "colab_type": "code",
        "colab": {}
      },
      "source": [
        "def createImageCubes(X, y, windowSize=5, removeZeroLabels=True):\n",
        "    margin = int((windowSize-1)/2)\n",
        "    zeroPaddedX = padWithZeros(X, margin=margin)\n",
        "    \n",
        "    # Split patches\n",
        "    print(\"X.shape\", X.shape)\n",
        "    patchesData = np.zeros((X.shape[0]*X.shape[1], windowSize, windowSize, X.shape[2]))\n",
        "    patchesLabels = np.zeros((X.shape[0] * X.shape[1]))\n",
        "    patchIndex = 0\n",
        "    \n",
        "    for r in range(margin, zeroPaddedX.shape[0] - margin):\n",
        "        for c in range(margin, zeroPaddedX.shape[1] - margin):\n",
        "            patch = zeroPaddedX[r - margin: r + margin + 1, c - margin:c + margin + 1]\n",
        "            patchesData[patchIndex, :, :, :] = patch\n",
        "            patchesLabels[patchIndex] = y[r-margin, c-margin]\n",
        "            patchIndex += 1\n",
        "            \n",
        "    if removeZeroLabels:\n",
        "        patchesData = patchesData[patchesLabels > 0, :, :, :]\n",
        "        patchesLabels = patchesLabels[patchesLabels > 0]\n",
        "        patchesLabels -= 1\n",
        "    \n",
        "    return patchesData, patchesLabels"
      ],
      "execution_count": 0,
      "outputs": []
    },
    {
      "cell_type": "code",
      "metadata": {
        "id": "5TV5hjOdWiFw",
        "colab_type": "code",
        "colab": {
          "base_uri": "https://localhost:8080/",
          "height": 35
        },
        "outputId": "351289cb-bb6d-44ea-cba8-802ef1f34740"
      },
      "source": [
        "X, y = loadData()\n",
        "\n",
        "X.shape, y.shape"
      ],
      "execution_count": 466,
      "outputs": [
        {
          "output_type": "execute_result",
          "data": {
            "text/plain": [
              "((145, 145, 200), (145, 145))"
            ]
          },
          "metadata": {
            "tags": []
          },
          "execution_count": 466
        }
      ]
    },
    {
      "cell_type": "code",
      "metadata": {
        "id": "eG2H-LrHWiF1",
        "colab_type": "code",
        "colab": {}
      },
      "source": [
        "K = X.shape[2] # Number of bands"
      ],
      "execution_count": 0,
      "outputs": []
    },
    {
      "cell_type": "code",
      "metadata": {
        "id": "fSS8XUN5WiF8",
        "colab_type": "code",
        "colab": {
          "base_uri": "https://localhost:8080/",
          "height": 35
        },
        "outputId": "33a64259-ce74-43a9-8211-f5844dc596cb"
      },
      "source": [
        "# We'll apply PCA to get only 30 components\n",
        "K = 75\n",
        "X, pca = applyPCA(X, numComponents = K)\n",
        "X.shape"
      ],
      "execution_count": 468,
      "outputs": [
        {
          "output_type": "execute_result",
          "data": {
            "text/plain": [
              "(145, 145, 75)"
            ]
          },
          "metadata": {
            "tags": []
          },
          "execution_count": 468
        }
      ]
    },
    {
      "cell_type": "code",
      "metadata": {
        "id": "jGyxdbh9WiGC",
        "colab_type": "code",
        "colab": {
          "base_uri": "https://localhost:8080/",
          "height": 54
        },
        "outputId": "8247bd0f-afc7-42f1-d479-23350d2b01e7"
      },
      "source": [
        "X, y = createImageCubes(X, y, windowSize = windowSize)\n",
        "X.shape, y.shape\n",
        "# Its picking 25x25 grid size, which i feel is a little too large."
      ],
      "execution_count": 469,
      "outputs": [
        {
          "output_type": "stream",
          "text": [
            "X.shape (145, 145, 75)\n"
          ],
          "name": "stdout"
        },
        {
          "output_type": "execute_result",
          "data": {
            "text/plain": [
              "((10249, 15, 15, 75), (10249,))"
            ]
          },
          "metadata": {
            "tags": []
          },
          "execution_count": 469
        }
      ]
    },
    {
      "cell_type": "code",
      "metadata": {
        "id": "0AJH5l75WiGG",
        "colab_type": "code",
        "colab": {}
      },
      "source": [
        "# Inference: Thre are a total of 145x145 = 21,025 pixels, and none is lost\n",
        "# during creation of patches due to padding.\n",
        "# We lose (21025 - 10249 = 10,776) pixels as they were 0, meaning unclassified."
      ],
      "execution_count": 0,
      "outputs": []
    },
    {
      "cell_type": "code",
      "metadata": {
        "id": "JDvR_bAfWiGM",
        "colab_type": "code",
        "colab": {
          "base_uri": "https://localhost:8080/",
          "height": 90
        },
        "outputId": "691f733c-dcf3-4f16-eaa7-29b2acbc9790"
      },
      "source": [
        "X_train, X_test, y_train, y_test = splitTrainTestSet(X, y, test_ratio)\n",
        "print(\"X_train shape: \", X_train.shape)\n",
        "print(\"X_test shape: \", X_test.shape)\n",
        "print(\"y_train shape: \", y_train.shape)\n",
        "print(\"y_test shape: \", y_test.shape)\n",
        "# Not sure why the train test split is so large"
      ],
      "execution_count": 471,
      "outputs": [
        {
          "output_type": "stream",
          "text": [
            "X_train shape:  (4099, 15, 15, 75)\n",
            "X_test shape:  (6150, 15, 15, 75)\n",
            "y_train shape:  (4099,)\n",
            "y_test shape:  (6150,)\n"
          ],
          "name": "stdout"
        }
      ]
    },
    {
      "cell_type": "code",
      "metadata": {
        "id": "oNBvrKVkQu3f",
        "colab_type": "code",
        "colab": {}
      },
      "source": [
        "X_val, X_test, y_val, y_test = splitTrainTestSet(X_test, y_test, val_ratio)"
      ],
      "execution_count": 0,
      "outputs": []
    },
    {
      "cell_type": "code",
      "metadata": {
        "id": "dYm3j8F_WiGV",
        "colab_type": "code",
        "colab": {
          "base_uri": "https://localhost:8080/",
          "height": 35
        },
        "outputId": "e62c9b33-891c-4f77-c2f7-7d56a35fec7d"
      },
      "source": [
        "y_train = to_categorical(y_train)  # One hot encoding basically\n",
        "y_train.shape\n",
        "y_test = to_categorical(y_test)\n",
        "y_test.shape\n",
        "y_val = to_categorical(y_val)\n",
        "y_val.shape"
      ],
      "execution_count": 473,
      "outputs": [
        {
          "output_type": "execute_result",
          "data": {
            "text/plain": [
              "(3075, 16)"
            ]
          },
          "metadata": {
            "tags": []
          },
          "execution_count": 473
        }
      ]
    },
    {
      "cell_type": "code",
      "metadata": {
        "id": "JJN0J0u3Rjsi",
        "colab_type": "code",
        "colab": {
          "base_uri": "https://localhost:8080/",
          "height": 35
        },
        "outputId": "a74ba12c-3f1d-4b4f-ff7d-11cdb292e008"
      },
      "source": [
        "X_test.shape"
      ],
      "execution_count": 474,
      "outputs": [
        {
          "output_type": "execute_result",
          "data": {
            "text/plain": [
              "(3075, 15, 15, 75)"
            ]
          },
          "metadata": {
            "tags": []
          },
          "execution_count": 474
        }
      ]
    },
    {
      "cell_type": "code",
      "metadata": {
        "id": "ttrD-2KgWiGa",
        "colab_type": "code",
        "colab": {
          "base_uri": "https://localhost:8080/",
          "height": 35
        },
        "outputId": "51d5a162-213b-48b8-b428-55656413152e"
      },
      "source": [
        "X_train = X_train.reshape(-1, windowSize, windowSize, K, 1)\n",
        "X_train.shape\n",
        "X_test = X_test.reshape(-1, windowSize, windowSize, K, 1)\n",
        "X_test.shape\n",
        "X_val = X_val.reshape(-1, windowSize, windowSize, K, 1)\n",
        "X_val.shape"
      ],
      "execution_count": 475,
      "outputs": [
        {
          "output_type": "execute_result",
          "data": {
            "text/plain": [
              "(3075, 15, 15, 75, 1)"
            ]
          },
          "metadata": {
            "tags": []
          },
          "execution_count": 475
        }
      ]
    },
    {
      "cell_type": "code",
      "metadata": {
        "id": "Wj-VC9PxWiGe",
        "colab_type": "code",
        "colab": {
          "base_uri": "https://localhost:8080/",
          "height": 35
        },
        "outputId": "ab86d824-03f7-4506-a4a2-650b8877ad4e"
      },
      "source": [
        "# Model parameters\n",
        "S = windowSize\n",
        "L = K\n",
        "output_units = 16\n",
        "print(S, L, output_units)"
      ],
      "execution_count": 476,
      "outputs": [
        {
          "output_type": "stream",
          "text": [
            "15 75 16\n"
          ],
          "name": "stdout"
        }
      ]
    },
    {
      "cell_type": "code",
      "metadata": {
        "id": "n7E8z395WiGi",
        "colab_type": "code",
        "colab": {
          "base_uri": "https://localhost:8080/",
          "height": 35
        },
        "outputId": "88442a7a-5f54-43ae-87ad-d14deb156646"
      },
      "source": [
        "input_layer = Input((S, S, L, 1))\n",
        "\n",
        "conv_layer1 = Conv3D(filters=8, kernel_size=(3,3,7), activation='relu')(input_layer)\n",
        "conv_layer2 = Conv3D(filters=8, kernel_size=(3,3,5), activation='relu')(conv_layer1)\n",
        "\n",
        "conv_layer3 = Conv3D(filters=16, kernel_size=(3,3,3), activation='relu')(conv_layer2)\n",
        "print(conv_layer3.shape)\n",
        "\n",
        "conv3d_shape = conv_layer3.shape\n",
        "\n",
        "conv_layer3 = Reshape((conv3d_shape[1], conv3d_shape[2],\n",
        "                    conv3d_shape[3]*conv3d_shape[4]))(conv_layer3)\n",
        "\n",
        "conv_layer4 = Conv2D(filters=64, kernel_size=(3,3), activation='relu')(conv_layer3)\n",
        "\n",
        "flatten_layer = Flatten()(conv_layer4)\n",
        "\n",
        "dense_layer1 = Dense(units = 256, activation='relu')(flatten_layer)\n",
        "dense_layer1 = Dropout(0.4)(dense_layer1)\n",
        "dense_layer2 = Dense(units=128, activation='relu')(dense_layer1)\n",
        "dense_layer2 = Dropout(0.4)(dense_layer1)\n",
        "\n",
        "output_layer = Dense(units=output_units, activation='softmax')(dense_layer2)"
      ],
      "execution_count": 477,
      "outputs": [
        {
          "output_type": "stream",
          "text": [
            "(None, 9, 9, 63, 16)\n"
          ],
          "name": "stdout"
        }
      ]
    },
    {
      "cell_type": "code",
      "metadata": {
        "id": "L6EIOjlRWiGm",
        "colab_type": "code",
        "colab": {
          "base_uri": "https://localhost:8080/",
          "height": 563
        },
        "outputId": "bbb01825-ee34-4138-971b-c49010a24b50"
      },
      "source": [
        "model = Model(inputs=input_layer, outputs=output_layer)\n",
        "model.summary()"
      ],
      "execution_count": 478,
      "outputs": [
        {
          "output_type": "stream",
          "text": [
            "Model: \"model_16\"\n",
            "_________________________________________________________________\n",
            "Layer (type)                 Output Shape              Param #   \n",
            "=================================================================\n",
            "input_23 (InputLayer)        [(None, 15, 15, 75, 1)]   0         \n",
            "_________________________________________________________________\n",
            "conv3d_64 (Conv3D)           (None, 13, 13, 69, 8)     512       \n",
            "_________________________________________________________________\n",
            "conv3d_65 (Conv3D)           (None, 11, 11, 65, 8)     2888      \n",
            "_________________________________________________________________\n",
            "conv3d_66 (Conv3D)           (None, 9, 9, 63, 16)      3472      \n",
            "_________________________________________________________________\n",
            "reshape_20 (Reshape)         (None, 9, 9, 1008)        0         \n",
            "_________________________________________________________________\n",
            "conv2d_20 (Conv2D)           (None, 7, 7, 64)          580672    \n",
            "_________________________________________________________________\n",
            "flatten_19 (Flatten)         (None, 3136)              0         \n",
            "_________________________________________________________________\n",
            "dense_55 (Dense)             (None, 256)               803072    \n",
            "_________________________________________________________________\n",
            "dropout_37 (Dropout)         (None, 256)               0         \n",
            "_________________________________________________________________\n",
            "dropout_38 (Dropout)         (None, 256)               0         \n",
            "_________________________________________________________________\n",
            "dense_57 (Dense)             (None, 16)                4112      \n",
            "=================================================================\n",
            "Total params: 1,394,728\n",
            "Trainable params: 1,394,728\n",
            "Non-trainable params: 0\n",
            "_________________________________________________________________\n"
          ],
          "name": "stdout"
        }
      ]
    },
    {
      "cell_type": "code",
      "metadata": {
        "id": "Grx_rEdVWiGq",
        "colab_type": "code",
        "colab": {}
      },
      "source": [
        "adam = Adam(lr = 0.001, decay = 1e-06)\n",
        "adamax = Adamax()\n",
        "model.compile(loss='categorical_crossentropy', optimizer = adam, metrics=['accuracy'])"
      ],
      "execution_count": 0,
      "outputs": []
    },
    {
      "cell_type": "code",
      "metadata": {
        "id": "QvdE5rHXWiGx",
        "colab_type": "code",
        "colab": {}
      },
      "source": [
        "# checkpoint\n",
        "filepath = 'best-model.hdf5'\n",
        "checkpoint = ModelCheckpoint(filepath, monitor='val_accuracy', verbose=1, save_best_only=True, mode='max')\n",
        "callbacks_list = [checkpoint]"
      ],
      "execution_count": 0,
      "outputs": []
    },
    {
      "cell_type": "code",
      "metadata": {
        "id": "bsk_4VVpWiG5",
        "colab_type": "code",
        "colab": {
          "base_uri": "https://localhost:8080/",
          "height": 1000
        },
        "outputId": "edbe86db-e402-4f73-83a4-8ecddfe86ffa"
      },
      "source": [
        "history = model.fit(x=X_train, y=y_train, batch_size=64, epochs=100, callbacks=callbacks_list, validation_data=(X_val, y_val))"
      ],
      "execution_count": 481,
      "outputs": [
        {
          "output_type": "stream",
          "text": [
            "Train on 4099 samples, validate on 3075 samples\n",
            "Epoch 1/100\n",
            "3968/4099 [============================>.] - ETA: 0s - loss: 1.6143 - accuracy: 0.4839\n",
            "Epoch 00001: val_accuracy improved from -inf to 0.89593, saving model to best-model.hdf5\n",
            "4099/4099 [==============================] - 3s 679us/sample - loss: 1.5768 - accuracy: 0.4965 - val_loss: 0.3567 - val_accuracy: 0.8959\n",
            "Epoch 2/100\n",
            "4096/4099 [============================>.] - ETA: 0s - loss: 0.2538 - accuracy: 0.9272\n",
            "Epoch 00002: val_accuracy improved from 0.89593 to 0.97073, saving model to best-model.hdf5\n",
            "4099/4099 [==============================] - 2s 528us/sample - loss: 0.2536 - accuracy: 0.9273 - val_loss: 0.0868 - val_accuracy: 0.9707\n",
            "Epoch 3/100\n",
            "4032/4099 [============================>.] - ETA: 0s - loss: 0.0963 - accuracy: 0.9725\n",
            "Epoch 00003: val_accuracy improved from 0.97073 to 0.98081, saving model to best-model.hdf5\n",
            "4099/4099 [==============================] - 2s 530us/sample - loss: 0.0959 - accuracy: 0.9724 - val_loss: 0.0541 - val_accuracy: 0.9808\n",
            "Epoch 4/100\n",
            "4032/4099 [============================>.] - ETA: 0s - loss: 0.0678 - accuracy: 0.9831\n",
            "Epoch 00004: val_accuracy improved from 0.98081 to 0.98309, saving model to best-model.hdf5\n",
            "4099/4099 [==============================] - 2s 522us/sample - loss: 0.0681 - accuracy: 0.9827 - val_loss: 0.0507 - val_accuracy: 0.9831\n",
            "Epoch 5/100\n",
            "3968/4099 [============================>.] - ETA: 0s - loss: 0.0609 - accuracy: 0.9831\n",
            "Epoch 00005: val_accuracy improved from 0.98309 to 0.98959, saving model to best-model.hdf5\n",
            "4099/4099 [==============================] - 2s 532us/sample - loss: 0.0594 - accuracy: 0.9834 - val_loss: 0.0335 - val_accuracy: 0.9896\n",
            "Epoch 6/100\n",
            "4032/4099 [============================>.] - ETA: 0s - loss: 0.0384 - accuracy: 0.9878\n",
            "Epoch 00006: val_accuracy improved from 0.98959 to 0.99447, saving model to best-model.hdf5\n",
            "4099/4099 [==============================] - 2s 528us/sample - loss: 0.0390 - accuracy: 0.9876 - val_loss: 0.0212 - val_accuracy: 0.9945\n",
            "Epoch 7/100\n",
            "4096/4099 [============================>.] - ETA: 0s - loss: 0.0349 - accuracy: 0.9910\n",
            "Epoch 00007: val_accuracy improved from 0.99447 to 0.99642, saving model to best-model.hdf5\n",
            "4099/4099 [==============================] - 2s 525us/sample - loss: 0.0348 - accuracy: 0.9910 - val_loss: 0.0155 - val_accuracy: 0.9964\n",
            "Epoch 8/100\n",
            "4096/4099 [============================>.] - ETA: 0s - loss: 0.0191 - accuracy: 0.9946\n",
            "Epoch 00008: val_accuracy did not improve from 0.99642\n",
            "4099/4099 [==============================] - 2s 516us/sample - loss: 0.0191 - accuracy: 0.9946 - val_loss: 0.0218 - val_accuracy: 0.9928\n",
            "Epoch 9/100\n",
            "3968/4099 [============================>.] - ETA: 0s - loss: 0.0077 - accuracy: 0.9975\n",
            "Epoch 00009: val_accuracy improved from 0.99642 to 0.99902, saving model to best-model.hdf5\n",
            "4099/4099 [==============================] - 2s 524us/sample - loss: 0.0076 - accuracy: 0.9976 - val_loss: 0.0044 - val_accuracy: 0.9990\n",
            "Epoch 10/100\n",
            "4032/4099 [============================>.] - ETA: 0s - loss: 0.0088 - accuracy: 0.9975\n",
            "Epoch 00010: val_accuracy did not improve from 0.99902\n",
            "4099/4099 [==============================] - 2s 514us/sample - loss: 0.0086 - accuracy: 0.9976 - val_loss: 0.0116 - val_accuracy: 0.9964\n",
            "Epoch 11/100\n",
            "4032/4099 [============================>.] - ETA: 0s - loss: 0.0199 - accuracy: 0.9936\n",
            "Epoch 00011: val_accuracy did not improve from 0.99902\n",
            "4099/4099 [==============================] - 2s 513us/sample - loss: 0.0197 - accuracy: 0.9937 - val_loss: 0.0222 - val_accuracy: 0.9964\n",
            "Epoch 12/100\n",
            "4032/4099 [============================>.] - ETA: 0s - loss: 0.0260 - accuracy: 0.9948\n",
            "Epoch 00012: val_accuracy did not improve from 0.99902\n",
            "4099/4099 [==============================] - 2s 512us/sample - loss: 0.0262 - accuracy: 0.9946 - val_loss: 0.0174 - val_accuracy: 0.9938\n",
            "Epoch 13/100\n",
            "4032/4099 [============================>.] - ETA: 0s - loss: 0.0179 - accuracy: 0.9945\n",
            "Epoch 00013: val_accuracy did not improve from 0.99902\n",
            "4099/4099 [==============================] - 2s 512us/sample - loss: 0.0198 - accuracy: 0.9944 - val_loss: 0.0170 - val_accuracy: 0.9948\n",
            "Epoch 14/100\n",
            "3968/4099 [============================>.] - ETA: 0s - loss: 0.0113 - accuracy: 0.9965\n",
            "Epoch 00014: val_accuracy did not improve from 0.99902\n",
            "4099/4099 [==============================] - 2s 510us/sample - loss: 0.0110 - accuracy: 0.9966 - val_loss: 0.0116 - val_accuracy: 0.9961\n",
            "Epoch 15/100\n",
            "4096/4099 [============================>.] - ETA: 0s - loss: 0.0053 - accuracy: 0.9978\n",
            "Epoch 00015: val_accuracy did not improve from 0.99902\n",
            "4099/4099 [==============================] - 2s 508us/sample - loss: 0.0053 - accuracy: 0.9978 - val_loss: 0.0225 - val_accuracy: 0.9935\n",
            "Epoch 16/100\n",
            "3968/4099 [============================>.] - ETA: 0s - loss: 0.0263 - accuracy: 0.9950\n",
            "Epoch 00016: val_accuracy did not improve from 0.99902\n",
            "4099/4099 [==============================] - 2s 512us/sample - loss: 0.0283 - accuracy: 0.9944 - val_loss: 0.0125 - val_accuracy: 0.9958\n",
            "Epoch 17/100\n",
            "3968/4099 [============================>.] - ETA: 0s - loss: 0.0077 - accuracy: 0.9987\n",
            "Epoch 00017: val_accuracy did not improve from 0.99902\n",
            "4099/4099 [==============================] - 2s 510us/sample - loss: 0.0076 - accuracy: 0.9988 - val_loss: 0.0239 - val_accuracy: 0.9945\n",
            "Epoch 18/100\n",
            "4032/4099 [============================>.] - ETA: 0s - loss: 0.0144 - accuracy: 0.9965\n",
            "Epoch 00018: val_accuracy did not improve from 0.99902\n",
            "4099/4099 [==============================] - 2s 512us/sample - loss: 0.0142 - accuracy: 0.9966 - val_loss: 0.0193 - val_accuracy: 0.9964\n",
            "Epoch 19/100\n",
            "4096/4099 [============================>.] - ETA: 0s - loss: 0.0177 - accuracy: 0.9946\n",
            "Epoch 00019: val_accuracy did not improve from 0.99902\n",
            "4099/4099 [==============================] - 2s 511us/sample - loss: 0.0177 - accuracy: 0.9946 - val_loss: 0.0119 - val_accuracy: 0.9967\n",
            "Epoch 20/100\n",
            "4096/4099 [============================>.] - ETA: 0s - loss: 0.0047 - accuracy: 0.9988\n",
            "Epoch 00020: val_accuracy did not improve from 0.99902\n",
            "4099/4099 [==============================] - 2s 509us/sample - loss: 0.0047 - accuracy: 0.9988 - val_loss: 0.0169 - val_accuracy: 0.9958\n",
            "Epoch 21/100\n",
            "4032/4099 [============================>.] - ETA: 0s - loss: 0.0252 - accuracy: 0.9948\n",
            "Epoch 00021: val_accuracy did not improve from 0.99902\n",
            "4099/4099 [==============================] - 2s 515us/sample - loss: 0.0250 - accuracy: 0.9946 - val_loss: 0.0191 - val_accuracy: 0.9935\n",
            "Epoch 22/100\n",
            "3968/4099 [============================>.] - ETA: 0s - loss: 0.0220 - accuracy: 0.9942\n",
            "Epoch 00022: val_accuracy did not improve from 0.99902\n",
            "4099/4099 [==============================] - 2s 513us/sample - loss: 0.0213 - accuracy: 0.9944 - val_loss: 0.0320 - val_accuracy: 0.9945\n",
            "Epoch 23/100\n",
            "3968/4099 [============================>.] - ETA: 0s - loss: 0.0219 - accuracy: 0.9940\n",
            "Epoch 00023: val_accuracy did not improve from 0.99902\n",
            "4099/4099 [==============================] - 2s 515us/sample - loss: 0.0213 - accuracy: 0.9941 - val_loss: 0.0259 - val_accuracy: 0.9932\n",
            "Epoch 24/100\n",
            "4096/4099 [============================>.] - ETA: 0s - loss: 0.0102 - accuracy: 0.9983\n",
            "Epoch 00024: val_accuracy did not improve from 0.99902\n",
            "4099/4099 [==============================] - 2s 515us/sample - loss: 0.0102 - accuracy: 0.9983 - val_loss: 0.0139 - val_accuracy: 0.9958\n",
            "Epoch 25/100\n",
            "4096/4099 [============================>.] - ETA: 0s - loss: 0.0042 - accuracy: 0.9988\n",
            "Epoch 00025: val_accuracy did not improve from 0.99902\n",
            "4099/4099 [==============================] - 2s 512us/sample - loss: 0.0041 - accuracy: 0.9988 - val_loss: 0.0157 - val_accuracy: 0.9938\n",
            "Epoch 26/100\n",
            "3968/4099 [============================>.] - ETA: 0s - loss: 0.0046 - accuracy: 0.9990\n",
            "Epoch 00026: val_accuracy did not improve from 0.99902\n",
            "4099/4099 [==============================] - 2s 507us/sample - loss: 0.0052 - accuracy: 0.9988 - val_loss: 0.0081 - val_accuracy: 0.9977\n",
            "Epoch 27/100\n",
            "3968/4099 [============================>.] - ETA: 0s - loss: 0.0072 - accuracy: 0.9982\n",
            "Epoch 00027: val_accuracy did not improve from 0.99902\n",
            "4099/4099 [==============================] - 2s 511us/sample - loss: 0.0104 - accuracy: 0.9980 - val_loss: 0.0163 - val_accuracy: 0.9951\n",
            "Epoch 28/100\n",
            "3968/4099 [============================>.] - ETA: 0s - loss: 0.0057 - accuracy: 0.9985\n",
            "Epoch 00028: val_accuracy did not improve from 0.99902\n",
            "4099/4099 [==============================] - 2s 510us/sample - loss: 0.0055 - accuracy: 0.9985 - val_loss: 0.0090 - val_accuracy: 0.9974\n",
            "Epoch 29/100\n",
            "4032/4099 [============================>.] - ETA: 0s - loss: 5.2966e-04 - accuracy: 1.0000\n",
            "Epoch 00029: val_accuracy did not improve from 0.99902\n",
            "4099/4099 [==============================] - 2s 513us/sample - loss: 6.2120e-04 - accuracy: 1.0000 - val_loss: 0.0089 - val_accuracy: 0.9980\n",
            "Epoch 30/100\n",
            "4032/4099 [============================>.] - ETA: 0s - loss: 4.7190e-04 - accuracy: 1.0000\n",
            "Epoch 00030: val_accuracy did not improve from 0.99902\n",
            "4099/4099 [==============================] - 2s 514us/sample - loss: 4.7477e-04 - accuracy: 1.0000 - val_loss: 0.0098 - val_accuracy: 0.9980\n",
            "Epoch 31/100\n",
            "4096/4099 [============================>.] - ETA: 0s - loss: 0.0013 - accuracy: 0.9998\n",
            "Epoch 00031: val_accuracy did not improve from 0.99902\n",
            "4099/4099 [==============================] - 2s 516us/sample - loss: 0.0013 - accuracy: 0.9998 - val_loss: 0.0121 - val_accuracy: 0.9971\n",
            "Epoch 32/100\n",
            "4096/4099 [============================>.] - ETA: 0s - loss: 9.4327e-04 - accuracy: 0.9995\n",
            "Epoch 00032: val_accuracy did not improve from 0.99902\n",
            "4099/4099 [==============================] - 2s 513us/sample - loss: 9.4258e-04 - accuracy: 0.9995 - val_loss: 0.0097 - val_accuracy: 0.9977\n",
            "Epoch 33/100\n",
            "4032/4099 [============================>.] - ETA: 0s - loss: 0.0017 - accuracy: 0.9990\n",
            "Epoch 00033: val_accuracy did not improve from 0.99902\n",
            "4099/4099 [==============================] - 2s 510us/sample - loss: 0.0016 - accuracy: 0.9990 - val_loss: 0.0450 - val_accuracy: 0.9958\n",
            "Epoch 34/100\n",
            "4096/4099 [============================>.] - ETA: 0s - loss: 0.0214 - accuracy: 0.9958\n",
            "Epoch 00034: val_accuracy did not improve from 0.99902\n",
            "4099/4099 [==============================] - 2s 510us/sample - loss: 0.0214 - accuracy: 0.9959 - val_loss: 0.0437 - val_accuracy: 0.9893\n",
            "Epoch 35/100\n",
            "4096/4099 [============================>.] - ETA: 0s - loss: 0.0402 - accuracy: 0.9893\n",
            "Epoch 00035: val_accuracy did not improve from 0.99902\n",
            "4099/4099 [==============================] - 2s 510us/sample - loss: 0.0402 - accuracy: 0.9893 - val_loss: 0.0709 - val_accuracy: 0.9880\n",
            "Epoch 36/100\n",
            "4096/4099 [============================>.] - ETA: 0s - loss: 0.0451 - accuracy: 0.9932\n",
            "Epoch 00036: val_accuracy did not improve from 0.99902\n",
            "4099/4099 [==============================] - 2s 512us/sample - loss: 0.0451 - accuracy: 0.9932 - val_loss: 0.0170 - val_accuracy: 0.9961\n",
            "Epoch 37/100\n",
            "4032/4099 [============================>.] - ETA: 0s - loss: 0.0059 - accuracy: 0.9985\n",
            "Epoch 00037: val_accuracy did not improve from 0.99902\n",
            "4099/4099 [==============================] - 2s 507us/sample - loss: 0.0064 - accuracy: 0.9983 - val_loss: 0.0173 - val_accuracy: 0.9961\n",
            "Epoch 38/100\n",
            "4032/4099 [============================>.] - ETA: 0s - loss: 0.0033 - accuracy: 0.9988\n",
            "Epoch 00038: val_accuracy did not improve from 0.99902\n",
            "4099/4099 [==============================] - 2s 514us/sample - loss: 0.0033 - accuracy: 0.9988 - val_loss: 0.0159 - val_accuracy: 0.9971\n",
            "Epoch 39/100\n",
            "4032/4099 [============================>.] - ETA: 0s - loss: 0.0048 - accuracy: 0.9983\n",
            "Epoch 00039: val_accuracy did not improve from 0.99902\n",
            "4099/4099 [==============================] - 2s 510us/sample - loss: 0.0047 - accuracy: 0.9983 - val_loss: 0.0263 - val_accuracy: 0.9961\n",
            "Epoch 40/100\n",
            "4032/4099 [============================>.] - ETA: 0s - loss: 0.0045 - accuracy: 0.9988\n",
            "Epoch 00040: val_accuracy did not improve from 0.99902\n",
            "4099/4099 [==============================] - 2s 514us/sample - loss: 0.0044 - accuracy: 0.9988 - val_loss: 0.0129 - val_accuracy: 0.9974\n",
            "Epoch 41/100\n",
            "4032/4099 [============================>.] - ETA: 0s - loss: 0.0025 - accuracy: 0.9995\n",
            "Epoch 00041: val_accuracy did not improve from 0.99902\n",
            "4099/4099 [==============================] - 2s 514us/sample - loss: 0.0025 - accuracy: 0.9995 - val_loss: 0.0161 - val_accuracy: 0.9974\n",
            "Epoch 42/100\n",
            "4096/4099 [============================>.] - ETA: 0s - loss: 0.0016 - accuracy: 0.9995\n",
            "Epoch 00042: val_accuracy did not improve from 0.99902\n",
            "4099/4099 [==============================] - 2s 514us/sample - loss: 0.0016 - accuracy: 0.9995 - val_loss: 0.0294 - val_accuracy: 0.9938\n",
            "Epoch 43/100\n",
            "3968/4099 [============================>.] - ETA: 0s - loss: 0.0089 - accuracy: 0.9980\n",
            "Epoch 00043: val_accuracy did not improve from 0.99902\n",
            "4099/4099 [==============================] - 2s 513us/sample - loss: 0.0088 - accuracy: 0.9980 - val_loss: 0.0091 - val_accuracy: 0.9980\n",
            "Epoch 44/100\n",
            "4096/4099 [============================>.] - ETA: 0s - loss: 0.0040 - accuracy: 0.9988\n",
            "Epoch 00044: val_accuracy did not improve from 0.99902\n",
            "4099/4099 [==============================] - 2s 512us/sample - loss: 0.0040 - accuracy: 0.9988 - val_loss: 0.0090 - val_accuracy: 0.9980\n",
            "Epoch 45/100\n",
            "3968/4099 [============================>.] - ETA: 0s - loss: 5.4093e-04 - accuracy: 1.0000\n",
            "Epoch 00045: val_accuracy did not improve from 0.99902\n",
            "4099/4099 [==============================] - 2s 512us/sample - loss: 5.2491e-04 - accuracy: 1.0000 - val_loss: 0.0071 - val_accuracy: 0.9984\n",
            "Epoch 46/100\n",
            "4032/4099 [============================>.] - ETA: 0s - loss: 0.0047 - accuracy: 0.9995\n",
            "Epoch 00046: val_accuracy did not improve from 0.99902\n",
            "4099/4099 [==============================] - 2s 509us/sample - loss: 0.0046 - accuracy: 0.9995 - val_loss: 0.0041 - val_accuracy: 0.9990\n",
            "Epoch 47/100\n",
            "3968/4099 [============================>.] - ETA: 0s - loss: 0.0156 - accuracy: 0.9985\n",
            "Epoch 00047: val_accuracy did not improve from 0.99902\n",
            "4099/4099 [==============================] - 2s 509us/sample - loss: 0.0151 - accuracy: 0.9985 - val_loss: 0.0084 - val_accuracy: 0.9974\n",
            "Epoch 48/100\n",
            "3968/4099 [============================>.] - ETA: 0s - loss: 0.0013 - accuracy: 0.9997\n",
            "Epoch 00048: val_accuracy did not improve from 0.99902\n",
            "4099/4099 [==============================] - 2s 512us/sample - loss: 0.0013 - accuracy: 0.9998 - val_loss: 0.0109 - val_accuracy: 0.9967\n",
            "Epoch 49/100\n",
            "4032/4099 [============================>.] - ETA: 0s - loss: 7.4666e-04 - accuracy: 0.9998\n",
            "Epoch 00049: val_accuracy did not improve from 0.99902\n",
            "4099/4099 [==============================] - 2s 513us/sample - loss: 7.3451e-04 - accuracy: 0.9998 - val_loss: 0.0046 - val_accuracy: 0.9974\n",
            "Epoch 50/100\n",
            "4032/4099 [============================>.] - ETA: 0s - loss: 7.3599e-04 - accuracy: 0.9998\n",
            "Epoch 00050: val_accuracy did not improve from 0.99902\n",
            "4099/4099 [==============================] - 2s 509us/sample - loss: 7.2406e-04 - accuracy: 0.9998 - val_loss: 0.0056 - val_accuracy: 0.9977\n",
            "Epoch 51/100\n",
            "4096/4099 [============================>.] - ETA: 0s - loss: 5.0938e-04 - accuracy: 0.9998\n",
            "Epoch 00051: val_accuracy did not improve from 0.99902\n",
            "4099/4099 [==============================] - 2s 509us/sample - loss: 5.0901e-04 - accuracy: 0.9998 - val_loss: 0.0033 - val_accuracy: 0.9984\n",
            "Epoch 52/100\n",
            "4096/4099 [============================>.] - ETA: 0s - loss: 2.9854e-04 - accuracy: 0.9998\n",
            "Epoch 00052: val_accuracy did not improve from 0.99902\n",
            "4099/4099 [==============================] - 2s 512us/sample - loss: 2.9832e-04 - accuracy: 0.9998 - val_loss: 0.0073 - val_accuracy: 0.9980\n",
            "Epoch 53/100\n",
            "3968/4099 [============================>.] - ETA: 0s - loss: 0.0275 - accuracy: 0.9962\n",
            "Epoch 00053: val_accuracy did not improve from 0.99902\n",
            "4099/4099 [==============================] - 2s 508us/sample - loss: 0.0281 - accuracy: 0.9961 - val_loss: 0.2241 - val_accuracy: 0.9691\n",
            "Epoch 54/100\n",
            "3968/4099 [============================>.] - ETA: 0s - loss: 0.0432 - accuracy: 0.9914\n",
            "Epoch 00054: val_accuracy did not improve from 0.99902\n",
            "4099/4099 [==============================] - 2s 513us/sample - loss: 0.0429 - accuracy: 0.9912 - val_loss: 0.0227 - val_accuracy: 0.9945\n",
            "Epoch 55/100\n",
            "3968/4099 [============================>.] - ETA: 0s - loss: 0.0172 - accuracy: 0.9972\n",
            "Epoch 00055: val_accuracy did not improve from 0.99902\n",
            "4099/4099 [==============================] - 2s 510us/sample - loss: 0.0178 - accuracy: 0.9971 - val_loss: 0.0216 - val_accuracy: 0.9951\n",
            "Epoch 56/100\n",
            "4096/4099 [============================>.] - ETA: 0s - loss: 0.0105 - accuracy: 0.9966\n",
            "Epoch 00056: val_accuracy did not improve from 0.99902\n",
            "4099/4099 [==============================] - 2s 509us/sample - loss: 0.0105 - accuracy: 0.9966 - val_loss: 0.0165 - val_accuracy: 0.9971\n",
            "Epoch 57/100\n",
            "4096/4099 [============================>.] - ETA: 0s - loss: 0.0135 - accuracy: 0.9980\n",
            "Epoch 00057: val_accuracy did not improve from 0.99902\n",
            "4099/4099 [==============================] - 2s 509us/sample - loss: 0.0134 - accuracy: 0.9980 - val_loss: 0.0115 - val_accuracy: 0.9980\n",
            "Epoch 58/100\n",
            "4032/4099 [============================>.] - ETA: 0s - loss: 0.0076 - accuracy: 0.9988\n",
            "Epoch 00058: val_accuracy did not improve from 0.99902\n",
            "4099/4099 [==============================] - 2s 514us/sample - loss: 0.0075 - accuracy: 0.9988 - val_loss: 0.0419 - val_accuracy: 0.9954\n",
            "Epoch 59/100\n",
            "3968/4099 [============================>.] - ETA: 0s - loss: 0.0052 - accuracy: 0.9987\n",
            "Epoch 00059: val_accuracy did not improve from 0.99902\n",
            "4099/4099 [==============================] - 2s 512us/sample - loss: 0.0050 - accuracy: 0.9988 - val_loss: 0.0116 - val_accuracy: 0.9967\n",
            "Epoch 60/100\n",
            "4096/4099 [============================>.] - ETA: 0s - loss: 0.0115 - accuracy: 0.9978\n",
            "Epoch 00060: val_accuracy did not improve from 0.99902\n",
            "4099/4099 [==============================] - 2s 510us/sample - loss: 0.0115 - accuracy: 0.9978 - val_loss: 0.0197 - val_accuracy: 0.9948\n",
            "Epoch 61/100\n",
            "4032/4099 [============================>.] - ETA: 0s - loss: 0.0091 - accuracy: 0.9975\n",
            "Epoch 00061: val_accuracy did not improve from 0.99902\n",
            "4099/4099 [==============================] - 2s 511us/sample - loss: 0.0089 - accuracy: 0.9976 - val_loss: 0.0162 - val_accuracy: 0.9961\n",
            "Epoch 62/100\n",
            "4032/4099 [============================>.] - ETA: 0s - loss: 0.0097 - accuracy: 0.9968\n",
            "Epoch 00062: val_accuracy did not improve from 0.99902\n",
            "4099/4099 [==============================] - 2s 510us/sample - loss: 0.0096 - accuracy: 0.9968 - val_loss: 0.0106 - val_accuracy: 0.9974\n",
            "Epoch 63/100\n",
            "4032/4099 [============================>.] - ETA: 0s - loss: 0.0031 - accuracy: 0.9995\n",
            "Epoch 00063: val_accuracy did not improve from 0.99902\n",
            "4099/4099 [==============================] - 2s 512us/sample - loss: 0.0030 - accuracy: 0.9995 - val_loss: 0.0105 - val_accuracy: 0.9974\n",
            "Epoch 64/100\n",
            "4032/4099 [============================>.] - ETA: 0s - loss: 0.0092 - accuracy: 0.9973\n",
            "Epoch 00064: val_accuracy did not improve from 0.99902\n",
            "4099/4099 [==============================] - 2s 509us/sample - loss: 0.0091 - accuracy: 0.9973 - val_loss: 0.0110 - val_accuracy: 0.9980\n",
            "Epoch 65/100\n",
            "4096/4099 [============================>.] - ETA: 0s - loss: 0.0101 - accuracy: 0.9980\n",
            "Epoch 00065: val_accuracy did not improve from 0.99902\n",
            "4099/4099 [==============================] - 2s 512us/sample - loss: 0.0101 - accuracy: 0.9980 - val_loss: 0.0128 - val_accuracy: 0.9977\n",
            "Epoch 66/100\n",
            "4032/4099 [============================>.] - ETA: 0s - loss: 0.0028 - accuracy: 0.9995\n",
            "Epoch 00066: val_accuracy did not improve from 0.99902\n",
            "4099/4099 [==============================] - 2s 511us/sample - loss: 0.0027 - accuracy: 0.9995 - val_loss: 0.0131 - val_accuracy: 0.9974\n",
            "Epoch 67/100\n",
            "3968/4099 [============================>.] - ETA: 0s - loss: 0.0018 - accuracy: 0.9992\n",
            "Epoch 00067: val_accuracy did not improve from 0.99902\n",
            "4099/4099 [==============================] - 2s 515us/sample - loss: 0.0018 - accuracy: 0.9993 - val_loss: 0.0181 - val_accuracy: 0.9977\n",
            "Epoch 68/100\n",
            "3968/4099 [============================>.] - ETA: 0s - loss: 0.0074 - accuracy: 0.9992\n",
            "Epoch 00068: val_accuracy did not improve from 0.99902\n",
            "4099/4099 [==============================] - 2s 513us/sample - loss: 0.0072 - accuracy: 0.9993 - val_loss: 0.0094 - val_accuracy: 0.9984\n",
            "Epoch 69/100\n",
            "4096/4099 [============================>.] - ETA: 0s - loss: 0.0049 - accuracy: 0.9995\n",
            "Epoch 00069: val_accuracy did not improve from 0.99902\n",
            "4099/4099 [==============================] - 2s 510us/sample - loss: 0.0049 - accuracy: 0.9995 - val_loss: 0.0087 - val_accuracy: 0.9980\n",
            "Epoch 70/100\n",
            "4032/4099 [============================>.] - ETA: 0s - loss: 3.4182e-04 - accuracy: 1.0000\n",
            "Epoch 00070: val_accuracy did not improve from 0.99902\n",
            "4099/4099 [==============================] - 2s 513us/sample - loss: 3.4699e-04 - accuracy: 1.0000 - val_loss: 0.0087 - val_accuracy: 0.9980\n",
            "Epoch 71/100\n",
            "4096/4099 [============================>.] - ETA: 0s - loss: 0.0017 - accuracy: 0.9995\n",
            "Epoch 00071: val_accuracy did not improve from 0.99902\n",
            "4099/4099 [==============================] - 2s 511us/sample - loss: 0.0016 - accuracy: 0.9995 - val_loss: 0.0093 - val_accuracy: 0.9984\n",
            "Epoch 72/100\n",
            "4096/4099 [============================>.] - ETA: 0s - loss: 8.5761e-04 - accuracy: 0.9998\n",
            "Epoch 00072: val_accuracy did not improve from 0.99902\n",
            "4099/4099 [==============================] - 2s 512us/sample - loss: 8.5698e-04 - accuracy: 0.9998 - val_loss: 0.0101 - val_accuracy: 0.9980\n",
            "Epoch 73/100\n",
            "3968/4099 [============================>.] - ETA: 0s - loss: 6.3447e-04 - accuracy: 0.9997\n",
            "Epoch 00073: val_accuracy did not improve from 0.99902\n",
            "4099/4099 [==============================] - 2s 506us/sample - loss: 6.1455e-04 - accuracy: 0.9998 - val_loss: 0.0118 - val_accuracy: 0.9974\n",
            "Epoch 74/100\n",
            "4032/4099 [============================>.] - ETA: 0s - loss: 9.2390e-04 - accuracy: 0.9998\n",
            "Epoch 00074: val_accuracy did not improve from 0.99902\n",
            "4099/4099 [==============================] - 2s 515us/sample - loss: 9.0889e-04 - accuracy: 0.9998 - val_loss: 0.0161 - val_accuracy: 0.9980\n",
            "Epoch 75/100\n",
            "4096/4099 [============================>.] - ETA: 0s - loss: 0.0011 - accuracy: 0.9998\n",
            "Epoch 00075: val_accuracy did not improve from 0.99902\n",
            "4099/4099 [==============================] - 2s 509us/sample - loss: 0.0011 - accuracy: 0.9998 - val_loss: 0.0114 - val_accuracy: 0.9974\n",
            "Epoch 76/100\n",
            "4032/4099 [============================>.] - ETA: 0s - loss: 5.3703e-05 - accuracy: 1.0000\n",
            "Epoch 00076: val_accuracy did not improve from 0.99902\n",
            "4099/4099 [==============================] - 2s 513us/sample - loss: 5.2945e-05 - accuracy: 1.0000 - val_loss: 0.0113 - val_accuracy: 0.9974\n",
            "Epoch 77/100\n",
            "3968/4099 [============================>.] - ETA: 0s - loss: 6.2964e-05 - accuracy: 1.0000\n",
            "Epoch 00077: val_accuracy did not improve from 0.99902\n",
            "4099/4099 [==============================] - 2s 510us/sample - loss: 6.1002e-05 - accuracy: 1.0000 - val_loss: 0.0113 - val_accuracy: 0.9974\n",
            "Epoch 78/100\n",
            "4096/4099 [============================>.] - ETA: 0s - loss: 3.0027e-05 - accuracy: 1.0000\n",
            "Epoch 00078: val_accuracy did not improve from 0.99902\n",
            "4099/4099 [==============================] - 2s 513us/sample - loss: 3.0005e-05 - accuracy: 1.0000 - val_loss: 0.0113 - val_accuracy: 0.9974\n",
            "Epoch 79/100\n",
            "4096/4099 [============================>.] - ETA: 0s - loss: 3.8340e-05 - accuracy: 1.0000\n",
            "Epoch 00079: val_accuracy did not improve from 0.99902\n",
            "4099/4099 [==============================] - 2s 513us/sample - loss: 3.8313e-05 - accuracy: 1.0000 - val_loss: 0.0114 - val_accuracy: 0.9974\n",
            "Epoch 80/100\n",
            "3968/4099 [============================>.] - ETA: 0s - loss: 5.9940e-05 - accuracy: 1.0000\n",
            "Epoch 00080: val_accuracy did not improve from 0.99902\n",
            "4099/4099 [==============================] - 2s 509us/sample - loss: 6.1903e-05 - accuracy: 1.0000 - val_loss: 0.0113 - val_accuracy: 0.9977\n",
            "Epoch 81/100\n",
            "4096/4099 [============================>.] - ETA: 0s - loss: 6.9443e-05 - accuracy: 1.0000\n",
            "Epoch 00081: val_accuracy did not improve from 0.99902\n",
            "4099/4099 [==============================] - 2s 509us/sample - loss: 6.9392e-05 - accuracy: 1.0000 - val_loss: 0.0109 - val_accuracy: 0.9974\n",
            "Epoch 82/100\n",
            "4096/4099 [============================>.] - ETA: 0s - loss: 7.2022e-04 - accuracy: 0.9998\n",
            "Epoch 00082: val_accuracy did not improve from 0.99902\n",
            "4099/4099 [==============================] - 2s 515us/sample - loss: 7.1969e-04 - accuracy: 0.9998 - val_loss: 0.0105 - val_accuracy: 0.9977\n",
            "Epoch 83/100\n",
            "4096/4099 [============================>.] - ETA: 0s - loss: 2.5712e-05 - accuracy: 1.0000\n",
            "Epoch 00083: val_accuracy did not improve from 0.99902\n",
            "4099/4099 [==============================] - 2s 510us/sample - loss: 2.5693e-05 - accuracy: 1.0000 - val_loss: 0.0107 - val_accuracy: 0.9980\n",
            "Epoch 84/100\n",
            "4096/4099 [============================>.] - ETA: 0s - loss: 7.4964e-04 - accuracy: 0.9995\n",
            "Epoch 00084: val_accuracy did not improve from 0.99902\n",
            "4099/4099 [==============================] - 2s 510us/sample - loss: 7.4910e-04 - accuracy: 0.9995 - val_loss: 0.0121 - val_accuracy: 0.9980\n",
            "Epoch 85/100\n",
            "4096/4099 [============================>.] - ETA: 0s - loss: 1.5944e-04 - accuracy: 1.0000\n",
            "Epoch 00085: val_accuracy did not improve from 0.99902\n",
            "4099/4099 [==============================] - 2s 510us/sample - loss: 1.5932e-04 - accuracy: 1.0000 - val_loss: 0.0125 - val_accuracy: 0.9980\n",
            "Epoch 86/100\n",
            "4032/4099 [============================>.] - ETA: 0s - loss: 5.5193e-05 - accuracy: 1.0000\n",
            "Epoch 00086: val_accuracy did not improve from 0.99902\n",
            "4099/4099 [==============================] - 2s 509us/sample - loss: 5.5758e-05 - accuracy: 1.0000 - val_loss: 0.0125 - val_accuracy: 0.9980\n",
            "Epoch 87/100\n",
            "4032/4099 [============================>.] - ETA: 0s - loss: 2.8397e-05 - accuracy: 1.0000\n",
            "Epoch 00087: val_accuracy did not improve from 0.99902\n",
            "4099/4099 [==============================] - 2s 511us/sample - loss: 2.8467e-05 - accuracy: 1.0000 - val_loss: 0.0126 - val_accuracy: 0.9980\n",
            "Epoch 88/100\n",
            "4096/4099 [============================>.] - ETA: 0s - loss: 3.3706e-04 - accuracy: 0.9998\n",
            "Epoch 00088: val_accuracy did not improve from 0.99902\n",
            "4099/4099 [==============================] - 2s 505us/sample - loss: 3.3681e-04 - accuracy: 0.9998 - val_loss: 0.0195 - val_accuracy: 0.9980\n",
            "Epoch 89/100\n",
            "4032/4099 [============================>.] - ETA: 0s - loss: 0.0071 - accuracy: 0.9995\n",
            "Epoch 00089: val_accuracy did not improve from 0.99902\n",
            "4099/4099 [==============================] - 2s 508us/sample - loss: 0.0070 - accuracy: 0.9995 - val_loss: 0.0107 - val_accuracy: 0.9977\n",
            "Epoch 90/100\n",
            "4032/4099 [============================>.] - ETA: 0s - loss: 0.0033 - accuracy: 0.9993\n",
            "Epoch 00090: val_accuracy did not improve from 0.99902\n",
            "4099/4099 [==============================] - 2s 509us/sample - loss: 0.0033 - accuracy: 0.9993 - val_loss: 0.0087 - val_accuracy: 0.9984\n",
            "Epoch 91/100\n",
            "4096/4099 [============================>.] - ETA: 0s - loss: 0.0046 - accuracy: 0.9988\n",
            "Epoch 00091: val_accuracy did not improve from 0.99902\n",
            "4099/4099 [==============================] - 2s 510us/sample - loss: 0.0046 - accuracy: 0.9988 - val_loss: 0.0131 - val_accuracy: 0.9964\n",
            "Epoch 92/100\n",
            "3968/4099 [============================>.] - ETA: 0s - loss: 7.5063e-04 - accuracy: 0.9997\n",
            "Epoch 00092: val_accuracy did not improve from 0.99902\n",
            "4099/4099 [==============================] - 2s 508us/sample - loss: 0.0013 - accuracy: 0.9995 - val_loss: 0.0184 - val_accuracy: 0.9971\n",
            "Epoch 93/100\n",
            "3968/4099 [============================>.] - ETA: 0s - loss: 0.0242 - accuracy: 0.9955\n",
            "Epoch 00093: val_accuracy did not improve from 0.99902\n",
            "4099/4099 [==============================] - 2s 509us/sample - loss: 0.0239 - accuracy: 0.9951 - val_loss: 0.0492 - val_accuracy: 0.9902\n",
            "Epoch 94/100\n",
            "4032/4099 [============================>.] - ETA: 0s - loss: 0.2752 - accuracy: 0.9794\n",
            "Epoch 00094: val_accuracy did not improve from 0.99902\n",
            "4099/4099 [==============================] - 2s 508us/sample - loss: 0.2755 - accuracy: 0.9788 - val_loss: 0.2449 - val_accuracy: 0.9743\n",
            "Epoch 95/100\n",
            "4096/4099 [============================>.] - ETA: 0s - loss: 0.1062 - accuracy: 0.9878\n",
            "Epoch 00095: val_accuracy did not improve from 0.99902\n",
            "4099/4099 [==============================] - 2s 509us/sample - loss: 0.1061 - accuracy: 0.9878 - val_loss: 0.0648 - val_accuracy: 0.9938\n",
            "Epoch 96/100\n",
            "4032/4099 [============================>.] - ETA: 0s - loss: 0.0111 - accuracy: 0.9970\n",
            "Epoch 00096: val_accuracy did not improve from 0.99902\n",
            "4099/4099 [==============================] - 2s 507us/sample - loss: 0.0110 - accuracy: 0.9971 - val_loss: 0.0401 - val_accuracy: 0.9964\n",
            "Epoch 97/100\n",
            "4096/4099 [============================>.] - ETA: 0s - loss: 0.0238 - accuracy: 0.9963\n",
            "Epoch 00097: val_accuracy did not improve from 0.99902\n",
            "4099/4099 [==============================] - 2s 512us/sample - loss: 0.0238 - accuracy: 0.9963 - val_loss: 0.0644 - val_accuracy: 0.9935\n",
            "Epoch 98/100\n",
            "3968/4099 [============================>.] - ETA: 0s - loss: 0.0091 - accuracy: 0.9977\n",
            "Epoch 00098: val_accuracy did not improve from 0.99902\n",
            "4099/4099 [==============================] - 2s 513us/sample - loss: 0.0088 - accuracy: 0.9978 - val_loss: 0.0413 - val_accuracy: 0.9964\n",
            "Epoch 99/100\n",
            "4096/4099 [============================>.] - ETA: 0s - loss: 0.0100 - accuracy: 0.9988\n",
            "Epoch 00099: val_accuracy did not improve from 0.99902\n",
            "4099/4099 [==============================] - 2s 514us/sample - loss: 0.0100 - accuracy: 0.9988 - val_loss: 0.0130 - val_accuracy: 0.9987\n",
            "Epoch 100/100\n",
            "3968/4099 [============================>.] - ETA: 0s - loss: 0.0070 - accuracy: 0.9985\n",
            "Epoch 00100: val_accuracy did not improve from 0.99902\n",
            "4099/4099 [==============================] - 2s 510us/sample - loss: 0.0068 - accuracy: 0.9985 - val_loss: 0.0197 - val_accuracy: 0.9974\n"
          ],
          "name": "stdout"
        }
      ]
    },
    {
      "cell_type": "code",
      "metadata": {
        "id": "9TLiHB2yWiG-",
        "colab_type": "code",
        "colab": {}
      },
      "source": [
        "model.load_weights(\"best-model.hdf5\")\n",
        "model.compile(loss='categorical_crossentropy', optimizer=adam, metrics=['accuracy'])"
      ],
      "execution_count": 0,
      "outputs": []
    },
    {
      "cell_type": "code",
      "metadata": {
        "id": "X1lFalcrZA4c",
        "colab_type": "code",
        "colab": {
          "base_uri": "https://localhost:8080/",
          "height": 435
        },
        "outputId": "bc014480-1f1b-4a91-94cc-6a9177e4568e"
      },
      "source": [
        "Y_pred_test = model.predict(X_test)\n",
        "y_pred_test = np.argmax(Y_pred_test, axis=1)\n",
        "\n",
        "classification = classification_report(np.argmax(y_test, axis=1), y_pred_test, digits=6)\n",
        "print(classification)"
      ],
      "execution_count": 483,
      "outputs": [
        {
          "output_type": "stream",
          "text": [
            "              precision    recall  f1-score   support\n",
            "\n",
            "           0   1.000000  1.000000  1.000000        14\n",
            "           1   1.000000  0.997664  0.998830       428\n",
            "           2   0.988095  1.000000  0.994012       249\n",
            "           3   1.000000  1.000000  1.000000        71\n",
            "           4   1.000000  0.986207  0.993056       145\n",
            "           5   1.000000  1.000000  1.000000       219\n",
            "           6   1.000000  1.000000  1.000000         8\n",
            "           7   1.000000  1.000000  1.000000       144\n",
            "           8   1.000000  1.000000  1.000000         6\n",
            "           9   1.000000  1.000000  1.000000       292\n",
            "          10   0.997294  1.000000  0.998645       737\n",
            "          11   1.000000  0.988764  0.994350       178\n",
            "          12   1.000000  1.000000  1.000000        61\n",
            "          13   1.000000  1.000000  1.000000       379\n",
            "          14   1.000000  0.991379  0.995671       116\n",
            "          15   0.965517  1.000000  0.982456        28\n",
            "\n",
            "    accuracy                       0.998049      3075\n",
            "   macro avg   0.996932  0.997751  0.997314      3075\n",
            "weighted avg   0.998073  0.998049  0.998050      3075\n",
            "\n"
          ],
          "name": "stdout"
        }
      ]
    },
    {
      "cell_type": "code",
      "metadata": {
        "id": "xxI-mlwIZM__",
        "colab_type": "code",
        "colab": {}
      },
      "source": [
        "def AA_andEachClassAccuracy(confusion_matrix):\n",
        "    counter = confusion_matrix.shape[0]\n",
        "    list_diag = np.diag(confusion_matrix)\n",
        "    list_raw_sum = np.sum(confusion_matrix, axis=1)\n",
        "    each_acc = np.nan_to_num(truediv(list_diag, list_raw_sum))\n",
        "    average_acc = np.mean(each_acc)\n",
        "    return each_acc, average_acc"
      ],
      "execution_count": 0,
      "outputs": []
    },
    {
      "cell_type": "code",
      "metadata": {
        "id": "YsM1VuDETOff",
        "colab_type": "code",
        "colab": {}
      },
      "source": [
        "def reports (X_test,y_test,name):\n",
        "    #start = time.time()\n",
        "    Y_pred = model.predict(X_test)\n",
        "    y_pred = np.argmax(Y_pred, axis=1)\n",
        "    #end = time.time()\n",
        "    #print(end - start)\n",
        "    if name == 'IP':\n",
        "        target_names = ['Alfalfa', 'Corn-notill', 'Corn-mintill', 'Corn'\n",
        "                        ,'Grass-pasture', 'Grass-trees', 'Grass-pasture-mowed', \n",
        "                        'Hay-windrowed', 'Oats', 'Soybean-notill', 'Soybean-mintill',\n",
        "                        'Soybean-clean', 'Wheat', 'Woods', 'Buildings-Grass-Trees-Drives',\n",
        "                        'Stone-Steel-Towers']\n",
        "    elif name == 'SA':\n",
        "        target_names = ['Brocoli_green_weeds_1','Brocoli_green_weeds_2','Fallow','Fallow_rough_plow','Fallow_smooth',\n",
        "                        'Stubble','Celery','Grapes_untrained','Soil_vinyard_develop','Corn_senesced_green_weeds',\n",
        "                        'Lettuce_romaine_4wk','Lettuce_romaine_5wk','Lettuce_romaine_6wk','Lettuce_romaine_7wk',\n",
        "                        'Vinyard_untrained','Vinyard_vertical_trellis']\n",
        "    elif name == 'PU':\n",
        "        target_names = ['Asphalt','Meadows','Gravel','Trees', 'Painted metal sheets','Bare Soil','Bitumen',\n",
        "                        'Self-Blocking Bricks','Shadows']\n",
        "    \n",
        "    classification = classification_report(np.argmax(y_test, axis=1), y_pred, target_names=target_names)\n",
        "    oa = accuracy_score(np.argmax(y_test, axis=1), y_pred)\n",
        "    confusion = confusion_matrix(np.argmax(y_test, axis=1), y_pred)\n",
        "    each_acc, aa = AA_andEachClassAccuracy(confusion)\n",
        "    kappa = cohen_kappa_score(np.argmax(y_test, axis=1), y_pred)\n",
        "    score = model.evaluate(X_test, y_test, batch_size=32)\n",
        "    Test_Loss =  score[0]*100\n",
        "    Test_accuracy = score[1]*100\n",
        "    \n",
        "    return classification, confusion, Test_Loss, Test_accuracy, oa*100, each_acc*100, aa*100, kappa*100"
      ],
      "execution_count": 0,
      "outputs": []
    },
    {
      "cell_type": "code",
      "metadata": {
        "id": "NkRcovU5TRMD",
        "colab_type": "code",
        "colab": {
          "base_uri": "https://localhost:8080/",
          "height": 35
        },
        "outputId": "771bd9b6-c412-4374-b965-89cf2f79ae92"
      },
      "source": [
        "classification, confusion, Test_loss, Test_accuracy, oa, each_acc, aa, kappa = reports(X_test,y_test,dataset)\n",
        "classification = str(classification)\n",
        "confusion = str(confusion)\n",
        "file_name = \"classification_report.txt\"\n",
        "\n",
        "with open(file_name, 'w') as x_file:\n",
        "    x_file.write('{} Test loss (%)'.format(Test_loss))\n",
        "    x_file.write('\\n')\n",
        "    x_file.write('{} Test accuracy (%)'.format(Test_accuracy))\n",
        "    x_file.write('\\n')\n",
        "    x_file.write('\\n')\n",
        "    x_file.write('{} Kappa accuracy (%)'.format(kappa))\n",
        "    x_file.write('\\n')\n",
        "    x_file.write('{} Overall accuracy (%)'.format(oa))\n",
        "    x_file.write('\\n')\n",
        "    x_file.write('{} Average accuracy (%)'.format(aa))\n",
        "    x_file.write('\\n')\n",
        "    x_file.write('\\n')\n",
        "    x_file.write('{}'.format(classification))\n",
        "    x_file.write('\\n')\n",
        "    x_file.write('{}'.format(confusion))"
      ],
      "execution_count": 491,
      "outputs": [
        {
          "output_type": "stream",
          "text": [
            "3075/3075 [==============================] - 1s 248us/sample - loss: 0.0066 - accuracy: 0.9980\n"
          ],
          "name": "stdout"
        }
      ]
    },
    {
      "cell_type": "code",
      "metadata": {
        "id": "IRpzkK_7TUaS",
        "colab_type": "code",
        "colab": {}
      },
      "source": [
        "def Patch(data,height_index,width_index):\n",
        "    height_slice = slice(height_index, height_index+PATCH_SIZE)\n",
        "    width_slice = slice(width_index, width_index+PATCH_SIZE)\n",
        "    patch = data[height_slice, width_slice, :]\n",
        "    \n",
        "    return patch"
      ],
      "execution_count": 0,
      "outputs": []
    },
    {
      "cell_type": "code",
      "metadata": {
        "id": "ZXpAyLP1TyeK",
        "colab_type": "code",
        "colab": {}
      },
      "source": [
        "# load the original image\n",
        "X, y = loadData()"
      ],
      "execution_count": 0,
      "outputs": []
    },
    {
      "cell_type": "code",
      "metadata": {
        "id": "IzBQjutPT0Bp",
        "colab_type": "code",
        "colab": {}
      },
      "source": [
        "height = y.shape[0]\n",
        "width = y.shape[1]\n",
        "PATCH_SIZE = windowSize\n",
        "numComponents = K"
      ],
      "execution_count": 0,
      "outputs": []
    },
    {
      "cell_type": "code",
      "metadata": {
        "id": "aqUqi_sJT1Zs",
        "colab_type": "code",
        "colab": {}
      },
      "source": [
        "X,pca = applyPCA(X, numComponents=numComponents)\n"
      ],
      "execution_count": 0,
      "outputs": []
    },
    {
      "cell_type": "code",
      "metadata": {
        "id": "WSIHlVDlT6XQ",
        "colab_type": "code",
        "colab": {}
      },
      "source": [
        "X = padWithZeros(X, PATCH_SIZE//2)"
      ],
      "execution_count": 0,
      "outputs": []
    },
    {
      "cell_type": "code",
      "metadata": {
        "id": "1eJ7ILkGT75u",
        "colab_type": "code",
        "colab": {}
      },
      "source": [
        "# calculate the predicted image\n",
        "outputs = np.zeros((height,width))\n",
        "for i in range(height):\n",
        "    for j in range(width):\n",
        "        target = int(y[i,j])\n",
        "        if target == 0 :\n",
        "            continue\n",
        "        else :\n",
        "            image_patch=Patch(X,i,j)\n",
        "            X_test_image = image_patch.reshape(1,image_patch.shape[0],image_patch.shape[1], image_patch.shape[2], 1).astype('float32')                                   \n",
        "            prediction = (model.predict(X_test_image))\n",
        "            prediction = np.argmax(prediction, axis=1)\n",
        "            outputs[i][j] = prediction+1"
      ],
      "execution_count": 0,
      "outputs": []
    },
    {
      "cell_type": "code",
      "metadata": {
        "id": "IK5POKuRT-Ah",
        "colab_type": "code",
        "colab": {
          "base_uri": "https://localhost:8080/",
          "height": 431
        },
        "outputId": "faaf2689-5863-41b7-f124-6e9fffe8a3ab"
      },
      "source": [
        "ground_truth = spectral.imshow(classes = y,figsize =(7,7))"
      ],
      "execution_count": 500,
      "outputs": [
        {
          "output_type": "display_data",
          "data": {
            "image/png": "[encoded data removed]",
            "text/plain": [
              "<Figure size 504x504 with 1 Axes>"
            ]
          },
          "metadata": {
            "tags": []
          }
        }
      ]
    },
    {
      "cell_type": "code",
      "metadata": {
        "id": "aakDDBzWU20j",
        "colab_type": "code",
        "colab": {
          "base_uri": "https://localhost:8080/",
          "height": 431
        },
        "outputId": "cd217b50-9676-46d6-9ef3-a7e751fb950f"
      },
      "source": [
        "predict_image = spectral.imshow(classes = outputs.astype(int),figsize =(7,7))"
      ],
      "execution_count": 501,
      "outputs": [
        {
          "output_type": "display_data",
          "data": {
            "image/png": "[encoded data removed]",
            "text/plain": [
              "<Figure size 504x504 with 1 Axes>"
            ]
          },
          "metadata": {
            "tags": []
          }
        }
      ]
    },
    {
      "cell_type": "code",
      "metadata": {
        "id": "VHlSQ6ZCU6Xq",
        "colab_type": "code",
        "colab": {}
      },
      "source": [
        "spectral.save_rgb(\"predictions.jpg\", outputs.astype(int), colors=spectral.spy_colors)"
      ],
      "execution_count": 0,
      "outputs": []
    }
  ]
}